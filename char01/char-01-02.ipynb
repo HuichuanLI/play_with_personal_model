{
 "cells": [
  {
   "cell_type": "markdown",
   "metadata": {},
   "source": [
    "## 1.7 使用Word Embedding实现中文自动摘要\n",
    "###  1.7.1 背景说明\n",
    "### 1.7.2 使用jieba分词"
   ]
  },
  {
   "cell_type": "code",
   "execution_count": 4,
   "metadata": {},
   "outputs": [
    {
     "ename": "FileNotFoundError",
     "evalue": "[Errno 2] No such file or directory: './data/corpus.txt'",
     "output_type": "error",
     "traceback": [
      "\u001B[0;31m---------------------------------------------------------------------------\u001B[0m",
      "\u001B[0;31mFileNotFoundError\u001B[0m                         Traceback (most recent call last)",
      "Cell \u001B[0;32mIn[4], line 14\u001B[0m\n\u001B[1;32m     12\u001B[0m \u001B[38;5;66;03m# 读取文件内容到列表\u001B[39;00m\n\u001B[1;32m     13\u001B[0m fileTrainRead \u001B[38;5;241m=\u001B[39m []\n\u001B[0;32m---> 14\u001B[0m \u001B[38;5;28;01mwith\u001B[39;00m \u001B[38;5;28;43mopen\u001B[39;49m\u001B[43m(\u001B[49m\u001B[43mfilePath\u001B[49m\u001B[43m,\u001B[49m\u001B[38;5;124;43m'\u001B[39;49m\u001B[38;5;124;43mr\u001B[39;49m\u001B[38;5;124;43m'\u001B[39;49m\u001B[43m)\u001B[49m \u001B[38;5;28;01mas\u001B[39;00m fileTrainRaw:\n\u001B[1;32m     15\u001B[0m     \u001B[38;5;28;01mfor\u001B[39;00m line \u001B[38;5;129;01min\u001B[39;00m fileTrainRaw:  \u001B[38;5;66;03m# 按行读取文件\u001B[39;00m\n\u001B[1;32m     16\u001B[0m         fileTrainRead\u001B[38;5;241m.\u001B[39mappend(line)\n",
      "File \u001B[0;32m~/miniconda/envs/tf_test/lib/python3.10/site-packages/IPython/core/interactiveshell.py:282\u001B[0m, in \u001B[0;36m_modified_open\u001B[0;34m(file, *args, **kwargs)\u001B[0m\n\u001B[1;32m    275\u001B[0m \u001B[38;5;28;01mif\u001B[39;00m file \u001B[38;5;129;01min\u001B[39;00m {\u001B[38;5;241m0\u001B[39m, \u001B[38;5;241m1\u001B[39m, \u001B[38;5;241m2\u001B[39m}:\n\u001B[1;32m    276\u001B[0m     \u001B[38;5;28;01mraise\u001B[39;00m \u001B[38;5;167;01mValueError\u001B[39;00m(\n\u001B[1;32m    277\u001B[0m         \u001B[38;5;124mf\u001B[39m\u001B[38;5;124m\"\u001B[39m\u001B[38;5;124mIPython won\u001B[39m\u001B[38;5;124m'\u001B[39m\u001B[38;5;124mt let you open fd=\u001B[39m\u001B[38;5;132;01m{\u001B[39;00mfile\u001B[38;5;132;01m}\u001B[39;00m\u001B[38;5;124m by default \u001B[39m\u001B[38;5;124m\"\u001B[39m\n\u001B[1;32m    278\u001B[0m         \u001B[38;5;124m\"\u001B[39m\u001B[38;5;124mas it is likely to crash IPython. If you know what you are doing, \u001B[39m\u001B[38;5;124m\"\u001B[39m\n\u001B[1;32m    279\u001B[0m         \u001B[38;5;124m\"\u001B[39m\u001B[38;5;124myou can use builtins\u001B[39m\u001B[38;5;124m'\u001B[39m\u001B[38;5;124m open.\u001B[39m\u001B[38;5;124m\"\u001B[39m\n\u001B[1;32m    280\u001B[0m     )\n\u001B[0;32m--> 282\u001B[0m \u001B[38;5;28;01mreturn\u001B[39;00m \u001B[43mio_open\u001B[49m\u001B[43m(\u001B[49m\u001B[43mfile\u001B[49m\u001B[43m,\u001B[49m\u001B[43m \u001B[49m\u001B[38;5;241;43m*\u001B[39;49m\u001B[43margs\u001B[49m\u001B[43m,\u001B[49m\u001B[43m \u001B[49m\u001B[38;5;241;43m*\u001B[39;49m\u001B[38;5;241;43m*\u001B[39;49m\u001B[43mkwargs\u001B[49m\u001B[43m)\u001B[49m\n",
      "\u001B[0;31mFileNotFoundError\u001B[0m: [Errno 2] No such file or directory: './data/corpus.txt'"
     ]
    }
   ],
   "source": [
    "import jieba\n",
    "import numpy as np\n",
    "\n",
    "filePath='./data/corpus.txt'\n",
    "fileSegWordDonePath ='corpusSegDone_1.txt'\n",
    "\n",
    "# 打印中文列表\n",
    "def PrintListChinese(list):\n",
    "    for i in range(len(list)):\n",
    "        print (list[i]) \n",
    "                \n",
    "# 读取文件内容到列表\n",
    "fileTrainRead = []\n",
    "with open(filePath,'r') as fileTrainRaw:\n",
    "    for line in fileTrainRaw:  # 按行读取文件\n",
    "        fileTrainRead.append(line)\n",
    "    \n",
    "\n",
    "# jieba分词后保存在列表中\n",
    "fileTrainSeg=[]\n",
    "for i in range(len(fileTrainRead)):\n",
    "    fileTrainSeg.append([' '.join(list(jieba.cut(fileTrainRead[i][9:-11],cut_all=False)))])\n",
    "    if i % 10000 == 0:\n",
    "        print(i)\n",
    "        \n",
    "\n",
    "# 保存分词结果到文件中\n",
    "with open(fileSegWordDonePath,'w',encoding='utf-8') as fW:\n",
    "    for i in range(len(fileTrainSeg)):\n",
    "        fW.write(fileTrainSeg[i][0])\n",
    "        fW.write('\\n')       \n"
   ]
  },
  {
   "cell_type": "code",
   "execution_count": 3,
   "metadata": {},
   "outputs": [
    {
     "name": "stdout",
     "output_type": "stream",
     "text": [
      "Collecting gensim\n",
      "  Downloading gensim-4.3.2-cp310-cp310-macosx_11_0_arm64.whl (24.0 MB)\n",
      "\u001B[2K     \u001B[90m━━━━━━━━━━━━━━━━━━━━━━━━━━━━━━━━━━━━━━━━\u001B[0m \u001B[32m24.0/24.0 MB\u001B[0m \u001B[31m3.3 MB/s\u001B[0m eta \u001B[36m0:00:00\u001B[0m00:01\u001B[0m00:01\u001B[0m\n",
      "\u001B[?25hCollecting smart-open>=1.8.1\n",
      "  Downloading smart_open-6.4.0-py3-none-any.whl (57 kB)\n",
      "\u001B[2K     \u001B[90m━━━━━━━━━━━━━━━━━━━━━━━━━━━━━━━━━━━━━━━━\u001B[0m \u001B[32m57.0/57.0 kB\u001B[0m \u001B[31m4.6 MB/s\u001B[0m eta \u001B[36m0:00:00\u001B[0m\n",
      "\u001B[?25hRequirement already satisfied: scipy>=1.7.0 in /Users/lhc456/miniconda/envs/tf_test/lib/python3.10/site-packages (from gensim) (1.10.0)\n",
      "Requirement already satisfied: numpy>=1.18.5 in /Users/lhc456/miniconda/envs/tf_test/lib/python3.10/site-packages (from gensim) (1.23.5)\n",
      "Installing collected packages: smart-open, gensim\n",
      "Successfully installed gensim-4.3.2 smart-open-6.4.0\n"
     ]
    }
   ],
   "source": [
    "!pip install gensim"
   ]
  },
  {
   "cell_type": "markdown",
   "metadata": {},
   "source": [
    "### 1.7.3 生成Embedding"
   ]
  },
  {
   "cell_type": "code",
   "execution_count": 5,
   "metadata": {},
   "outputs": [
    {
     "name": "stderr",
     "output_type": "stream",
     "text": [
      "2023-11-18 13:49:42,496: INFO: running /Users/lhc456/miniconda/envs/tf_test/lib/python3.10/site-packages/ipykernel_launcher.py -f /Users/lhc456/Library/Jupyter/runtime/kernel-18206cdc-4580-4f7d-9f20-cf1f1569b590.json\n"
     ]
    },
    {
     "ename": "TypeError",
     "evalue": "Word2Vec.__init__() got an unexpected keyword argument 'size'",
     "output_type": "error",
     "traceback": [
      "\u001B[0;31m---------------------------------------------------------------------------\u001B[0m",
      "\u001B[0;31mTypeError\u001B[0m                                 Traceback (most recent call last)",
      "Cell \u001B[0;32mIn[5], line 30\u001B[0m\n\u001B[1;32m     27\u001B[0m out_vector \u001B[38;5;241m=\u001B[39m \u001B[38;5;124m'\u001B[39m\u001B[38;5;124mcorpusSegDone_1.vector\u001B[39m\u001B[38;5;124m'\u001B[39m\n\u001B[1;32m     29\u001B[0m \u001B[38;5;66;03m# 训练skip-gram模型\u001B[39;00m\n\u001B[0;32m---> 30\u001B[0m model \u001B[38;5;241m=\u001B[39m \u001B[43mWord2Vec\u001B[49m\u001B[43m(\u001B[49m\u001B[43mLineSentence\u001B[49m\u001B[43m(\u001B[49m\u001B[43minp\u001B[49m\u001B[43m)\u001B[49m\u001B[43m,\u001B[49m\u001B[43m \u001B[49m\u001B[43msize\u001B[49m\u001B[38;5;241;43m=\u001B[39;49m\u001B[38;5;241;43m50\u001B[39;49m\u001B[43m,\u001B[49m\u001B[43m \u001B[49m\u001B[43mwindow\u001B[49m\u001B[38;5;241;43m=\u001B[39;49m\u001B[38;5;241;43m5\u001B[39;49m\u001B[43m,\u001B[49m\u001B[43m \u001B[49m\u001B[43mmin_count\u001B[49m\u001B[38;5;241;43m=\u001B[39;49m\u001B[38;5;241;43m5\u001B[39;49m\u001B[43m,\u001B[49m\n\u001B[1;32m     31\u001B[0m \u001B[43m                 \u001B[49m\u001B[43mworkers\u001B[49m\u001B[38;5;241;43m=\u001B[39;49m\u001B[43mmultiprocessing\u001B[49m\u001B[38;5;241;43m.\u001B[39;49m\u001B[43mcpu_count\u001B[49m\u001B[43m(\u001B[49m\u001B[43m)\u001B[49m\u001B[43m)\u001B[49m\n\u001B[1;32m     33\u001B[0m \u001B[38;5;66;03m# 保存模型\u001B[39;00m\n\u001B[1;32m     34\u001B[0m model\u001B[38;5;241m.\u001B[39msave(out_model)\n",
      "\u001B[0;31mTypeError\u001B[0m: Word2Vec.__init__() got an unexpected keyword argument 'size'"
     ]
    }
   ],
   "source": [
    "\"\"\"\n",
    "gensim word2vec获取词向量\n",
    "\"\"\"\n",
    "\n",
    "import warnings\n",
    "import logging\n",
    "import os.path\n",
    "import sys\n",
    "import multiprocessing\n",
    "\n",
    "import gensim\n",
    "from gensim.models import Word2Vec\n",
    "from gensim.models.word2vec import LineSentence\n",
    "# 忽略警告\n",
    "warnings.filterwarnings(action='ignore', category=UserWarning, module='gensim')\n",
    " \n",
    "if __name__ == '__main__':\n",
    "    \n",
    "    program = os.path.basename(sys.argv[0]) # 读取当前文件的文件名\n",
    "    logger = logging.getLogger(program)\n",
    "    logging.basicConfig(format='%(asctime)s: %(levelname)s: %(message)s',level=logging.INFO)\n",
    "    logger.info(\"running %s\" % ' '.join(sys.argv))\n",
    " \n",
    "    # inp为输入语料, outp1为输出模型, outp2为vector格式的模型\n",
    "    inp = 'corpusSegDone_1.txt'\n",
    "    out_model = 'corpusSegDone_1.model'\n",
    "    out_vector = 'corpusSegDone_1.vector'\n",
    " \n",
    "    # 训练skip-gram模型\n",
    "    model = Word2Vec(LineSentence(inp), size=50, window=5, min_count=5,\n",
    "                     workers=multiprocessing.cpu_count())\n",
    " \n",
    "    # 保存模型\n",
    "    model.save(out_model)\n",
    "    # 保存词向量\n",
    "    model.wv.save_word2vec_format(out_vector, binary=False)"
   ]
  },
  {
   "cell_type": "markdown",
   "metadata": {},
   "source": [
    "### 1.7.4 把文档的词转换为词向量"
   ]
  },
  {
   "cell_type": "code",
   "execution_count": 4,
   "metadata": {},
   "outputs": [
    {
     "name": "stderr",
     "output_type": "stream",
     "text": [
      "2020-08-12 19:40:43,823: INFO: loading projection weights from corpusSegDone_1.vector\n",
      "2020-08-12 19:41:05,251: INFO: loaded (382751, 50) matrix from corpusSegDone_1.vector\n"
     ]
    },
    {
     "name": "stdout",
     "output_type": "stream",
     "text": [
      "document  1  well done.\n",
      "document  2  well done.\n",
      "document  3  well done.\n",
      "document  4  well done.\n",
      "document  5  well done.\n",
      "document  6  well done.\n",
      "document  7  well done.\n",
      "document  8  well done.\n",
      "document  9  well done.\n",
      "document  10  well done.\n"
     ]
    }
   ],
   "source": [
    "# 采用Word2Vec词聚类方法抽取关键词1——获取文本词向量表示\n",
    "import warnings\n",
    "warnings.filterwarnings(action='ignore', category=UserWarning, module='gensim')  # 忽略警告\n",
    "import sys, codecs\n",
    "import pandas as pd\n",
    "import numpy as np\n",
    "import jieba\n",
    "import jieba.posseg\n",
    "import gensim\n",
    "\n",
    "# 返回特征词向量\n",
    "def getWordVecs(wordList, model):\n",
    "    name = []\n",
    "    vecs = []\n",
    "    for word in wordList:\n",
    "        word = word.replace('\\n', '')\n",
    "        try:\n",
    "            if word in model:  # 模型中存在该词的向量表示\n",
    "                #name.append(word.encode('utf8'))\n",
    "                name.append(word)\n",
    "                vecs.append(model[word])\n",
    "        except KeyError:\n",
    "            continue\n",
    "    a = pd.DataFrame(name, columns=['word'])\n",
    "    b = pd.DataFrame(np.array(vecs, dtype='float'))\n",
    "    return pd.concat([a, b], axis=1)\n",
    "\n",
    "# 数据预处理操作：分词，去停用词，词性筛选\n",
    "def dataPrepos(text, stopkey):\n",
    "    l = []\n",
    "    pos = ['n', 'nz', 'v', 'vd', 'vn', 'l', 'a', 'd']  # 定义选取的词性\n",
    "    seg = jieba.posseg.cut(text)  # 分词\n",
    "    for i in seg:\n",
    "        if i.word not in l and i.word not in stopkey and i.flag in pos:  # 去重 + 去停用词 + 词性筛选\n",
    "            # print i.word\n",
    "            l.append(i.word)\n",
    "    return l\n",
    "\n",
    "# 根据数据获取候选关键词词向量\n",
    "def buildAllWordsVecs(data, stopkey, model):\n",
    "    idList, titleList, abstractList = data['id'], data['title'], data['abstract']\n",
    "    for index in range(len(idList)):\n",
    "        id = idList[index]\n",
    "        title = titleList[index]\n",
    "        abstract = abstractList[index]\n",
    "        l_ti = dataPrepos(title, stopkey)  # 处理标题\n",
    "        l_ab = dataPrepos(abstract, stopkey)  # 处理摘要\n",
    "        # 获取候选关键词的词向量\n",
    "        words = np.append(l_ti, l_ab)  # 拼接数组元素\n",
    "        words = list(set(words))  # 数组元素去重,得到候选关键词列表\n",
    "        wordvecs = getWordVecs(words, model)  # 获取候选关键词的词向量表示\n",
    "        # 词向量写入csv文件，每个词400维\n",
    "        data_vecs = pd.DataFrame(wordvecs)\n",
    "        data_vecs.to_csv('wordvecs_' + str(id) + '.csv', index=False)\n",
    "        print(\"document \", id, \" well done.\")\n",
    "\n",
    "def main():\n",
    "    # 读取数据集\n",
    "    dataFile = 'sample_data.csv'\n",
    "    data = pd.read_csv(dataFile)\n",
    "    # 停用词表\n",
    "    stopkey = [w.strip() for w in codecs.open('stopWord.txt', 'r').readlines()]\n",
    "    # 词向量模型\n",
    "    inp = 'corpusSegDone_1.vector'\n",
    "    model = gensim.models.KeyedVectors.load_word2vec_format(inp, binary=False)\n",
    "    buildAllWordsVecs(data, stopkey, model)\n",
    "\n",
    "if __name__ == '__main__':\n",
    "    main()\n",
    "\n"
   ]
  },
  {
   "cell_type": "markdown",
   "metadata": {},
   "source": [
    "### 1.7.5 生成各主题的关键词\n",
    "采用聚类方法对候选关键词的词向量进行聚类分析，实现代码如下"
   ]
  },
  {
   "cell_type": "code",
   "execution_count": 16,
   "metadata": {},
   "outputs": [
    {
     "data": {
      "image/png": "[encoded data removed]",
      "text/plain": [
       "<Figure size 432x288 with 1 Axes>"
      ]
     },
     "metadata": {
      "needs_background": "light"
     },
     "output_type": "display_data"
    },
    {
     "data": {
      "image/png": "[encoded data removed]",
      "text/plain": [
       "<Figure size 432x288 with 1 Axes>"
      ]
     },
     "metadata": {
      "needs_background": "light"
     },
     "output_type": "display_data"
    },
    {
     "data": {
      "image/png": "[encoded data removed]",
      "text/plain": [
       "<Figure size 432x288 with 1 Axes>"
      ]
     },
     "metadata": {
      "needs_background": "light"
     },
     "output_type": "display_data"
    },
    {
     "data": {
      "image/png": "[encoded data removed]",
      "text/plain": [
       "<Figure size 432x288 with 1 Axes>"
      ]
     },
     "metadata": {
      "needs_background": "light"
     },
     "output_type": "display_data"
    },
    {
     "data": {
      "image/png": "[encoded data removed]",
      "text/plain": [
       "<Figure size 432x288 with 1 Axes>"
      ]
     },
     "metadata": {
      "needs_background": "light"
     },
     "output_type": "display_data"
    },
    {
     "data": {
      "image/png": "[encoded data removed]",
      "text/plain": [
       "<Figure size 432x288 with 1 Axes>"
      ]
     },
     "metadata": {
      "needs_background": "light"
     },
     "output_type": "display_data"
    },
    {
     "data": {
      "image/png": "[encoded data removed]",
      "text/plain": [
       "<Figure size 432x288 with 1 Axes>"
      ]
     },
     "metadata": {
      "needs_background": "light"
     },
     "output_type": "display_data"
    },
    {
     "data": {
      "image/png": "[encoded data removed]",
      "text/plain": [
       "<Figure size 432x288 with 1 Axes>"
      ]
     },
     "metadata": {
      "needs_background": "light"
     },
     "output_type": "display_data"
    },
    {
     "data": {
      "image/png": "[encoded data removed]",
      "text/plain": [
       "<Figure size 432x288 with 1 Axes>"
      ]
     },
     "metadata": {
      "needs_background": "light"
     },
     "output_type": "display_data"
    },
    {
     "data": {
      "image/png": "[encoded data removed]",
      "text/plain": [
       "<Figure size 432x288 with 1 Axes>"
      ]
     },
     "metadata": {
      "needs_background": "light"
     },
     "output_type": "display_data"
    }
   ],
   "source": [
    "# 采用Word2Vec词聚类方法抽取关键词2——根据候选关键词的词向量进行聚类分析\n",
    "import sys,os\n",
    "from sklearn.cluster import KMeans\n",
    "from sklearn.decomposition import PCA\n",
    "import pandas as pd\n",
    "import numpy as np\n",
    "import matplotlib.pyplot as plt\n",
    "import math\n",
    "\n",
    "# 对词向量采用K-means聚类抽取TopK关键词\n",
    "topK=6\n",
    "def getkeywords_kmeans(data,topK):\n",
    "    words = data[\"word\"] # 词汇\n",
    "    vecs = data.iloc[:,1:] # 向量表示\n",
    "\n",
    "    kmeans = KMeans(n_clusters=1,random_state=10).fit(vecs)\n",
    "    labels = kmeans.labels_ #类别结果标签\n",
    "    labels = pd.DataFrame(labels,columns=['label'])\n",
    "    new_df = pd.concat([labels,vecs],axis=1)\n",
    "    df_count_type = new_df.groupby('label').size() #各类别统计个数\n",
    "    # print df_count_type\n",
    "    vec_center = kmeans.cluster_centers_ #聚类中心\n",
    "\n",
    "    # 计算距离（相似性） 采用欧几里得距离（欧式距离）\n",
    "    distances = []\n",
    "    vec_words = np.array(vecs) # 候选关键词向量，dataFrame转array\n",
    "    vec_center = vec_center[0] # 第一个类别聚类中心,本例只有一个类别\n",
    "    length = len(vec_center) # 向量维度\n",
    "    for index in range(len(vec_words)): # 候选关键词个数\n",
    "        cur_wordvec = vec_words[index] # 当前词语的词向量\n",
    "        dis = 0 # 向量距离\n",
    "        for index2 in range(length):\n",
    "            dis += (vec_center[index2]-cur_wordvec[index2])*(vec_center[index2]-cur_wordvec[index2])\n",
    "        dis = math.sqrt(dis)\n",
    "        distances.append(dis)\n",
    "    distances = pd.DataFrame(distances,columns=['dis'])\n",
    "\n",
    "    result = pd.concat([words, labels ,distances], axis=1) # 拼接词语与其对应中心点的距离\n",
    "    result = result.sort_values(by=\"dis\",ascending = True) # 按照距离大小进行升序排序\n",
    "\n",
    "    # 将用于聚类的数据的特征维度降到2维\n",
    "    pca = PCA(n_components=2)\n",
    "    new_pca = pd.DataFrame(pca.fit_transform(new_df))\n",
    "    #print new_pca\n",
    "    #可视化\n",
    "    d = new_pca[new_df['label'] == 0]\n",
    "    plt.plot(d[0],d[1],'r.')\n",
    "    d = new_pca[new_df['label'] == 1]\n",
    "    plt.plot(d[0], d[1], 'go')\n",
    "    d = new_pca[new_df['label'] == 2]\n",
    "    plt.plot(d[0], d[1], 'b*')\n",
    "    plt.gcf().savefig('kmeans.png')\n",
    "    plt.show()\n",
    "\n",
    "    # 抽取排名前topK个词语作为文本关键词\n",
    "    wordlist = np.array(result['word']) # 选择词汇列并转成数组格式\n",
    "    word_split = [wordlist[x] for x in range(0,topK)] # 抽取前topK个词汇\n",
    "    word_split = \" \".join(word_split)\n",
    "    return word_split\n",
    "\n",
    "def main():\n",
    "    # 读取数据集\n",
    "    dataFile = 'sample_data.csv'\n",
    "    articleData = pd.read_csv(dataFile)\n",
    "    ids, titles, keys = [], [], []\n",
    "\n",
    "    rootdir = \"vecs\" # 词向量文件根目录\n",
    "    fileList = os.listdir(rootdir) #列出文件夹下所有的目录与文件\n",
    "    # 遍历文件\n",
    "    for i in range(len(fileList)):\n",
    "        filename = fileList[i]\n",
    "        path = os.path.join(rootdir,filename)\n",
    "        if os.path.isfile(path):\n",
    "            data = pd.read_csv(path) # 读取词向量文件数据\n",
    "            #data = pd.read_csv(path)\n",
    "            artile_keys = getkeywords_kmeans(data,topK) # 聚类算法得到当前文件的关键词\n",
    "            #print(artile_keys)\n",
    "            #break\n",
    "            artile_keys=artile_keys\n",
    "            # 根据文件名获得文章id以及标题\n",
    "            (shortname, extension) = os.path.splitext(filename) # 得到文件名和文件扩展名\n",
    "            t = shortname.split(\"_\")\n",
    "            article_id = int(t[len(t)-1]) # 获得文章id\n",
    "            artile_tit = articleData[articleData.id==article_id]['title'] # 获得文章标题\n",
    "            artile_tit = list(artile_tit)[0] # series转成字符串\n",
    "            ids.append(article_id)\n",
    "            titles.append(artile_tit)            \n",
    "            keys.append(artile_keys)\n",
    "            #keys.append(artile_keys)\n",
    "    # 所有结果写入文件\n",
    "    result = pd.DataFrame({\"id\": ids, \"title\": titles, \"key\": keys}, columns=['id', 'title', 'key'])\n",
    "    result = result.sort_values(by=\"id\",ascending=True) # 排序\n",
    "    result.to_csv(\"result/keys_word2vec.csv\", index=False)\n",
    "\n",
    "if __name__ == '__main__':\n",
    "    main()\n",
    "\n",
    "\n"
   ]
  },
  {
   "cell_type": "markdown",
   "metadata": {},
   "source": [
    "### 1.7.6 查了结果"
   ]
  },
  {
   "cell_type": "markdown",
   "metadata": {},
   "source": [
    "1）查看原材料前 4 个主题及概要信息，结果如下"
   ]
  },
  {
   "cell_type": "code",
   "execution_count": 22,
   "metadata": {},
   "outputs": [
    {
     "name": "stdout",
     "output_type": "stream",
     "text": [
      "id,title,abstract\r",
      "\r\n",
      "1,永磁电机驱动的纯电动大巴车坡道起步防溜策略,本发明公开了一种永磁电机驱动的纯电动大巴车坡道起步防溜策略，即本策略当制动踏板已踩下、永磁电机转速小于设定值并持续一定时间，整车控制单元产生一个刹车触发信号，当油门踏板开度小于设定值，且档位装置为非空档时，电机控制单元产生一个防溜功能使能信号并自动进入防溜控制使永磁电机进入转速闭环控制于某个目标转速，若整车控制单元检测到制动踏板仍然踩下，则限制永磁电机输出力矩，否则，恢复永磁电机输出力矩；当整车控制单元检测到油门踏板开度大于设置值、档位装置为空档或手刹装置处于驻车位置，则退出防溜控制，同时切换到力矩控制。本策略无需更改现有车辆结构或添加辅助传感器等硬件设备，实现车辆防溜目的。\r",
      "\r\n",
      "2,机动车辆车门的肘靠,一种溃缩结构是作为内部支撑件而被提供在机动车辆的车门衬板上的肘靠中，所述溃缩结构具有多个以交叉形方式设计的凹陷，其中被一个装饰层覆盖的一个泡沫元件安排在所述溃缩结构上方。该溃缩结构特别用于吸收侧面碰撞事件中的负荷，以便防止车辆乘车者免受增加的力峰值。\r",
      "\r\n"
     ]
    }
   ],
   "source": [
    "#查看原文件各主题及其概要说明\n",
    "! head -3 sample_data.csv"
   ]
  },
  {
   "cell_type": "markdown",
   "metadata": {},
   "source": [
    "2）生成的各主题关键词，结果如下："
   ]
  },
  {
   "cell_type": "code",
   "execution_count": 21,
   "metadata": {},
   "outputs": [
    {
     "name": "stdout",
     "output_type": "stream",
     "text": [
      "id,title,key\r\n",
      "1,永磁电机驱动的纯电动大巴车坡道起步防溜策略,力矩 开度 设定值 坡道 闭环控制 使能\r\n",
      "2,机动车辆车门的肘靠,溃缩 衬板 元件 交叉 凹陷 机动车辆\r\n"
     ]
    }
   ],
   "source": [
    "#查看各主题提炼的关键字\n",
    "! head -3 result/keys_word2vec.csv"
   ]
  }
 ],
 "metadata": {
  "kernelspec": {
   "display_name": "Python 3 (ipykernel)",
   "language": "python",
   "name": "python3"
  },
  "language_info": {
   "codemirror_mode": {
    "name": "ipython",
    "version": 3
   },
   "file_extension": ".py",
   "mimetype": "text/x-python",
   "name": "python",
   "nbconvert_exporter": "python",
   "pygments_lexer": "ipython3",
   "version": "3.10.9"
  }
 },
 "nbformat": 4,
 "nbformat_minor": 2
}
